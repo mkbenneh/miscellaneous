{
 "cells": [
  {
   "cell_type": "code",
   "execution_count": null,
   "metadata": {},
   "outputs": [],
   "source": [
    "content = driver.page_source\n",
    "soup = BeautifulSoup(content)\n",
    "for a in soup.findAll('a',href=True, attrs={'class':'_31qSD5'}):\n",
    "    name=a.find('div', attrs={'class':'_3wU53n'})\n",
    "    price=a.find('div', attrs={'class':'_1vC4OE _2rQ-NK'})\n",
    "    rating=a.find('div', attrs={'class':'hGSR34 _2beYZw'})\n",
    "    products.append(name.text)\n",
    "    prices.append(price.text)\n",
    "    ratings.append(rating.text)"
   ]
  }
 ],
 "metadata": {
  "language_info": {
   "name": "python"
  },
  "orig_nbformat": 4
 },
 "nbformat": 4,
 "nbformat_minor": 2
}
