{
 "cells": [
  {
   "cell_type": "code",
   "execution_count": null,
   "metadata": {},
   "outputs": [],
   "source": [
    "#pip install pytube\n",
    "\n",
    "from pytube import YouTube\n",
    "import os\n",
    "\n",
    "# Specify the directory where you want to save the video\n",
    "save_path = '/path/to/save/directory'\n",
    "\n",
    "\n",
    "#downloading the video\n",
    "yt = YouTube('video link')\n",
    "yt.streams.get_highest_resolution().download(output_path=save_path)\n",
    "\n",
    "# Get the filename of the downloaded video\n",
    "filename = yt.title + '.mp4'\n",
    "\n",
    "# Construct the full path of the downloaded video\n",
    "video_path = os.path.join(save_path, filename)\n",
    "\n",
    "print(\"Downloaded\", filename, \"at\", video_path)\n"
   ]
  }
 ],
 "metadata": {
  "language_info": {
   "name": "python"
  },
  "orig_nbformat": 4
 },
 "nbformat": 4,
 "nbformat_minor": 2
}
